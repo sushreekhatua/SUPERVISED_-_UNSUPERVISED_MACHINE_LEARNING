{
 "cells": [
  {
   "cell_type": "markdown",
   "metadata": {},
   "source": [
    "# CAT-DATASET"
   ]
  },
  {
   "cell_type": "markdown",
   "metadata": {},
   "source": [
    "### ABSTRACT:\n",
    "#### *Is there a cat in your data?*\n",
    "\n",
    "A common task in machine learning pipelines is encoding categorical variables for a given algorithm in a format that allows as much useful signal as possible to be captured.\n",
    "\n",
    "Because this is such a common task and important skill to master, we've put together a dataset that contains only categorical features, and includes:\n",
    "\n",
    "binary features\n",
    "low- and high-cardinality nominal features\n",
    "low- and high-cardinality ordinal features\n",
    "(potentially) cyclical features."
   ]
  },
  {
   "cell_type": "markdown",
   "metadata": {},
   "source": [
    "### AIM:\n",
    "\n",
    "Our aim is to find out the supervised machine learning algorithm and various hyperparameter tuning methods  which will give the best accuracy scores by taking the train.csv dataset from the kaggle competition."
   ]
  },
  {
   "cell_type": "markdown",
   "metadata": {},
   "source": [
    "### SOURCE:\n",
    " The following link is the source of training dataset.\n",
    " https://www.kaggle.com/c/cat-in-the-dat/data"
   ]
  },
  {
   "cell_type": "markdown",
   "metadata": {},
   "source": [
    "### Importing Necessary Libraries:"
   ]
  },
  {
   "cell_type": "code",
   "execution_count": 1,
   "metadata": {
    "ExecuteTime": {
     "end_time": "2021-08-11T07:19:48.815012Z",
     "start_time": "2021-08-11T07:19:44.905494Z"
    }
   },
   "outputs": [],
   "source": [
    "import pandas as pd\n",
    "import numpy as np\n",
    "import matplotlib.pyplot as plt\n",
    "import seaborn as sns\n",
    "%matplotlib inline\n",
    "\n",
    "from pandas_profiling import ProfileReport\n",
    "\n",
    "from scipy import stats\n",
    "import statsmodels.api as sm\n",
    "from statsmodels.api import OLS\n",
    "\n",
    "from sklearn import preprocessing\n",
    "from sklearn.preprocessing import OneHotEncoder,LabelEncoder,OrdinalEncoder\n",
    "\n",
    "from sklearn import model_selection\n",
    "from sklearn.model_selection import StratifiedShuffleSplit\n",
    "from sklearn.model_selection import train_test_split\n",
    "from sklearn.model_selection import cross_val_score\n",
    "from sklearn.model_selection import GridSearchCV\n",
    "\n",
    "from imblearn.under_sampling import CondensedNearestNeighbour\n",
    "from imblearn.over_sampling import SMOTE\n",
    "from imblearn.ensemble import BalancedRandomForestClassifier,BalancedBaggingClassifier\n",
    "\n",
    "from sklearn import feature_selection\n",
    "from sklearn.feature_selection import VarianceThreshold\n",
    "from sklearn.decomposition import PCA\n",
    "from sklearn.manifold import LocallyLinearEmbedding as LLE\n",
    "\n",
    "from sklearn.linear_model import LogisticRegression\n",
    "from sklearn.ensemble import RandomForestClassifier\n",
    "from sklearn.tree import DecisionTreeClassifier\n",
    "from sklearn.svm import SVC\n",
    "from sklearn.ensemble import AdaBoostClassifier\n",
    "\n",
    "from sklearn.datasets import make_classification\n",
    "from sklearn.pipeline import Pipeline\n",
    "from sklearn.metrics import *\n"
   ]
  },
  {
   "cell_type": "code",
   "execution_count": 3,
   "metadata": {
    "ExecuteTime": {
     "end_time": "2021-08-11T07:19:48.846029Z",
     "start_time": "2021-08-11T07:19:48.840025Z"
    }
   },
   "outputs": [],
   "source": [
    "def load_data(input_=[\"C:/Users/sushr/Downloads/train.csv/train.csv\"],\n",
    "              sample_f=0.05):\n",
    "    train = pd.read_csv(input_[0])\n",
    "    # test=pd.read_csv(input_[1])\n",
    "    if sample_f!= 0:\n",
    "        train = train.sample(frac=sample_f)\n",
    "    train.loc[:, train.columns != \"id\"] = train.loc[:, train.columns != \"id\"]\\\n",
    "        .astype(\"category\").apply(lambda x: x.cat.codes)\n",
    "    train.drop(['id'],axis=1,inplace=True)\n",
    "    \n",
    "    X=train.drop(\"target\",axis=1)\n",
    "    y=train[\"target\"]\n",
    "    \n",
    "    X,y=SMOTE().fit_resample(X,y)\n",
    "    \n",
    "    x_train,x_test,y_train,y_test=train_test_split(X,y,test_size=0.2,random_state=42)\n",
    "    return(x_train,x_test,y_train,y_test)"
   ]
  },
  {
   "cell_type": "code",
   "execution_count": 4,
   "metadata": {
    "ExecuteTime": {
     "end_time": "2021-08-11T07:19:48.861031Z",
     "start_time": "2021-08-11T07:19:48.849027Z"
    }
   },
   "outputs": [],
   "source": [
    "# Creating a new dataframe to show all the machine learning models and respective various accuracy\n",
    "Result=pd.DataFrame({'Model-Name':[],\n",
    "                   'AUC_Train Accuracy':[],\n",
    "                    'AUC_Test Accuracy':[],\n",
    "                    'Train Accuracy':[],\n",
    "                    'Test Accuracy':[],\n",
    "                    'F1 Score_Train':[],\n",
    "                    'F1 Score_Test':[]\n",
    "                    })"
   ]
  },
  {
   "cell_type": "code",
   "execution_count": 5,
   "metadata": {
    "ExecuteTime": {
     "end_time": "2021-08-11T07:19:51.499780Z",
     "start_time": "2021-08-11T07:19:48.863027Z"
    }
   },
   "outputs": [],
   "source": [
    "x_train,x_test,y_train,y_test=load_data()"
   ]
  },
  {
   "cell_type": "markdown",
   "metadata": {},
   "source": [
    "## Logistic Regression"
   ]
  },
  {
   "cell_type": "code",
   "execution_count": 6,
   "metadata": {
    "ExecuteTime": {
     "end_time": "2021-08-11T07:19:53.791137Z",
     "start_time": "2021-08-11T07:19:51.503760Z"
    }
   },
   "outputs": [
    {
     "name": "stderr",
     "output_type": "stream",
     "text": [
      "C:\\Users\\sushr\\anaconda3\\lib\\site-packages\\sklearn\\linear_model\\_sag.py:328: ConvergenceWarning: The max_iter was reached which means the coef_ did not converge\n",
      "  warnings.warn(\"The max_iter was reached which means \"\n"
     ]
    },
    {
     "data": {
      "text/plain": [
       "LogisticRegression(l1_ratio=0.1, penalty='elasticnet', solver='saga')"
      ]
     },
     "execution_count": 6,
     "metadata": {},
     "output_type": "execute_result"
    }
   ],
   "source": [
    "Log_Reg=LogisticRegression(penalty=\"elasticnet\",solver=\"saga\",l1_ratio=0.10)\n",
    "Log_Reg.fit(x_train,y_train)"
   ]
  },
  {
   "cell_type": "code",
   "execution_count": 7,
   "metadata": {
    "ExecuteTime": {
     "end_time": "2021-08-11T07:19:53.821142Z",
     "start_time": "2021-08-11T07:19:53.794144Z"
    }
   },
   "outputs": [
    {
     "name": "stdout",
     "output_type": "stream",
     "text": [
      "train score:  0.6615321526514084\n",
      "test score:  0.6618144541260892\n"
     ]
    }
   ],
   "source": [
    "print(\"train score: \",Log_Reg.score(x_train,y_train))\n",
    "print(\"test score: \",Log_Reg.score(x_test,y_test))"
   ]
  },
  {
   "cell_type": "code",
   "execution_count": 8,
   "metadata": {
    "ExecuteTime": {
     "end_time": "2021-08-11T07:19:53.837140Z",
     "start_time": "2021-08-11T07:19:53.825148Z"
    }
   },
   "outputs": [
    {
     "data": {
      "text/plain": [
       "0    19556\n",
       "1    19461\n",
       "Name: target, dtype: int64"
      ]
     },
     "execution_count": 8,
     "metadata": {},
     "output_type": "execute_result"
    }
   ],
   "source": [
    "y_train.value_counts()"
   ]
  },
  {
   "cell_type": "code",
   "execution_count": 9,
   "metadata": {
    "ExecuteTime": {
     "end_time": "2021-08-11T07:19:53.869138Z",
     "start_time": "2021-08-11T07:19:53.841143Z"
    }
   },
   "outputs": [],
   "source": [
    "y_train_pred=Log_Reg.predict(x_train)\n",
    "y_test_pred=Log_Reg.predict(x_test)"
   ]
  },
  {
   "cell_type": "code",
   "execution_count": 10,
   "metadata": {
    "ExecuteTime": {
     "end_time": "2021-08-11T07:19:53.931141Z",
     "start_time": "2021-08-11T07:19:53.873147Z"
    }
   },
   "outputs": [],
   "source": [
    "Result=Result.append({'Model-Name':\"Logistic Regression\",\n",
    "                   'AUC_Train Accuracy':roc_auc_score(y_train,y_train_pred),\n",
    "                    'AUC_Test Accuracy':roc_auc_score(y_test,y_test_pred),\n",
    "                    'Train Accuracy':Log_Reg.score(x_train,y_train),\n",
    "                    'Test Accuracy':Log_Reg.score(x_test,y_test),\n",
    "                    'F1 Score_Train':f1_score(y_train,y_train_pred),\n",
    "                    'F1 Score_Test':f1_score(y_test,y_test_pred)\n",
    "                    },ignore_index=True)"
   ]
  },
  {
   "cell_type": "markdown",
   "metadata": {},
   "source": [
    "## AdaBooster Classifier"
   ]
  },
  {
   "cell_type": "code",
   "execution_count": 11,
   "metadata": {
    "ExecuteTime": {
     "end_time": "2021-08-11T07:20:20.800622Z",
     "start_time": "2021-08-11T07:19:53.934144Z"
    }
   },
   "outputs": [
    {
     "name": "stdout",
     "output_type": "stream",
     "text": [
      "Train score:  0.8193351615962273\n",
      "Test score:  0.8133264992311635\n"
     ]
    }
   ],
   "source": [
    "adb=AdaBoostClassifier(n_estimators=550,random_state=42)\n",
    "adb.fit(x_train,y_train)\n",
    "print(\"Train score: \",adb.score(x_train,y_train))\n",
    "print(\"Test score: \",adb.score(x_test,y_test))"
   ]
  },
  {
   "cell_type": "code",
   "execution_count": 12,
   "metadata": {
    "ExecuteTime": {
     "end_time": "2021-08-11T07:20:24.480088Z",
     "start_time": "2021-08-11T07:20:20.804629Z"
    }
   },
   "outputs": [],
   "source": [
    "y_train_pred=adb.predict(x_train)\n",
    "y_test_pred=adb.predict(x_test)"
   ]
  },
  {
   "cell_type": "code",
   "execution_count": 13,
   "metadata": {
    "ExecuteTime": {
     "end_time": "2021-08-11T07:20:27.996362Z",
     "start_time": "2021-08-11T07:20:24.482871Z"
    }
   },
   "outputs": [],
   "source": [
    "Result=Result.append({'Model-Name':\"AdaBoost Classifier\",\n",
    "                   'AUC_Train Accuracy':roc_auc_score(y_train,y_train_pred),\n",
    "                    'AUC_Test Accuracy':roc_auc_score(y_test,y_test_pred),\n",
    "                    'Train Accuracy':adb.score(x_train,y_train),\n",
    "                    'Test Accuracy':adb.score(x_test,y_test),\n",
    "                    'F1 Score_Train':f1_score(y_train,y_train_pred),\n",
    "                    'F1 Score_Test':f1_score(y_test,y_test_pred)\n",
    "                    },ignore_index=True)"
   ]
  },
  {
   "cell_type": "markdown",
   "metadata": {},
   "source": [
    "## Decision Tree"
   ]
  },
  {
   "cell_type": "code",
   "execution_count": 14,
   "metadata": {
    "ExecuteTime": {
     "end_time": "2021-08-11T07:20:28.138191Z",
     "start_time": "2021-08-11T07:20:27.998360Z"
    }
   },
   "outputs": [
    {
     "data": {
      "text/plain": [
       "DecisionTreeClassifier(max_depth=5, max_leaf_nodes=9, min_samples_split=10)"
      ]
     },
     "execution_count": 14,
     "metadata": {},
     "output_type": "execute_result"
    }
   ],
   "source": [
    "DT=DecisionTreeClassifier(max_depth=5,max_leaf_nodes=9,min_samples_split=10)\n",
    "DT.fit(x_train,y_train)"
   ]
  },
  {
   "cell_type": "code",
   "execution_count": 15,
   "metadata": {
    "ExecuteTime": {
     "end_time": "2021-08-11T07:20:28.170308Z",
     "start_time": "2021-08-11T07:20:28.140211Z"
    }
   },
   "outputs": [
    {
     "name": "stdout",
     "output_type": "stream",
     "text": [
      "Train Score:  0.7085885639592998\n",
      "Test Score:  0.7049718093285494\n"
     ]
    }
   ],
   "source": [
    "print(\"Train Score: \",DT.score(x_train,y_train))\n",
    "print(\"Test Score: \",DT.score(x_test,y_test))"
   ]
  },
  {
   "cell_type": "markdown",
   "metadata": {},
   "source": [
    "### Applying GridSearch CV"
   ]
  },
  {
   "cell_type": "code",
   "execution_count": 16,
   "metadata": {
    "ExecuteTime": {
     "end_time": "2021-08-11T07:20:40.450006Z",
     "start_time": "2021-08-11T07:20:28.173308Z"
    }
   },
   "outputs": [
    {
     "data": {
      "text/plain": [
       "GridSearchCV(cv=3, estimator=DecisionTreeClassifier(random_state=40), n_jobs=1,\n",
       "             param_grid={'max_depth': [2, 3, 4, 5, 6, 7, 8],\n",
       "                         'max_leaf_nodes': [4, 5, 6, 7, 8, 9, 10]})"
      ]
     },
     "execution_count": 16,
     "metadata": {},
     "output_type": "execute_result"
    }
   ],
   "source": [
    "param={\"max_depth\":[2,3,4,5,6,7,8],\n",
    "      \"max_leaf_nodes\":[4,5,6,7,8,9,10]}\n",
    "\n",
    "grid=GridSearchCV(DecisionTreeClassifier(random_state=40),\n",
    "                                         param_grid=param,\n",
    "                                         n_jobs=1,\n",
    "                                        cv=3)\n",
    "grid.fit(x_train,y_train)"
   ]
  },
  {
   "cell_type": "code",
   "execution_count": 17,
   "metadata": {
    "ExecuteTime": {
     "end_time": "2021-08-11T07:20:40.466011Z",
     "start_time": "2021-08-11T07:20:40.452027Z"
    }
   },
   "outputs": [
    {
     "data": {
      "text/plain": [
       "{'max_depth': 5, 'max_leaf_nodes': 10}"
      ]
     },
     "execution_count": 17,
     "metadata": {},
     "output_type": "execute_result"
    }
   ],
   "source": [
    "grid.best_params_"
   ]
  },
  {
   "cell_type": "code",
   "execution_count": 18,
   "metadata": {
    "ExecuteTime": {
     "end_time": "2021-08-11T07:20:40.481003Z",
     "start_time": "2021-08-11T07:20:40.473010Z"
    }
   },
   "outputs": [
    {
     "data": {
      "text/plain": [
       "0.7159442100570151"
      ]
     },
     "execution_count": 18,
     "metadata": {},
     "output_type": "execute_result"
    }
   ],
   "source": [
    "grid.best_score_"
   ]
  },
  {
   "cell_type": "markdown",
   "metadata": {},
   "source": [
    "### Applying the best grid_parameter to model"
   ]
  },
  {
   "cell_type": "code",
   "execution_count": 19,
   "metadata": {
    "ExecuteTime": {
     "end_time": "2021-08-11T07:20:40.637008Z",
     "start_time": "2021-08-11T07:20:40.483007Z"
    }
   },
   "outputs": [
    {
     "data": {
      "text/plain": [
       "DecisionTreeClassifier(max_depth=5, max_leaf_nodes=10)"
      ]
     },
     "execution_count": 19,
     "metadata": {},
     "output_type": "execute_result"
    }
   ],
   "source": [
    "DT=DecisionTreeClassifier(**grid.best_params_)\n",
    "DT.fit(x_train,y_train)"
   ]
  },
  {
   "cell_type": "code",
   "execution_count": 20,
   "metadata": {
    "ExecuteTime": {
     "end_time": "2021-08-11T07:20:40.668014Z",
     "start_time": "2021-08-11T07:20:40.638009Z"
    }
   },
   "outputs": [
    {
     "name": "stdout",
     "output_type": "stream",
     "text": [
      "Train Score:  0.71453469000692\n",
      "Test Score:  0.7127626858021527\n"
     ]
    }
   ],
   "source": [
    "print(\"Train Score: \",DT.score(x_train,y_train))\n",
    "print(\"Test Score: \",DT.score(x_test,y_test))"
   ]
  },
  {
   "cell_type": "code",
   "execution_count": 21,
   "metadata": {
    "ExecuteTime": {
     "end_time": "2021-08-11T07:20:40.698007Z",
     "start_time": "2021-08-11T07:20:40.677010Z"
    }
   },
   "outputs": [],
   "source": [
    "y_train_pred=DT.predict(x_train)\n",
    "y_test_pred=DT.predict(x_test)"
   ]
  },
  {
   "cell_type": "code",
   "execution_count": 22,
   "metadata": {
    "ExecuteTime": {
     "end_time": "2021-08-11T07:20:40.760010Z",
     "start_time": "2021-08-11T07:20:40.703009Z"
    }
   },
   "outputs": [],
   "source": [
    "Result=Result.append({'Model-Name':\"Decision Tree\",\n",
    "                   'AUC_Train Accuracy':roc_auc_score(y_train,y_train_pred),\n",
    "                    'AUC_Test Accuracy':roc_auc_score(y_test,y_test_pred),\n",
    "                    'Train Accuracy':DT.score(x_train,y_train),\n",
    "                    'Test Accuracy':DT.score(x_test,y_test),\n",
    "                    'F1 Score_Train':f1_score(y_train,y_train_pred),\n",
    "                    'F1 Score_Test':f1_score(y_test,y_test_pred)\n",
    "                    },ignore_index=True)"
   ]
  },
  {
   "cell_type": "markdown",
   "metadata": {},
   "source": [
    "## Random Forest"
   ]
  },
  {
   "cell_type": "code",
   "execution_count": 23,
   "metadata": {
    "ExecuteTime": {
     "end_time": "2021-08-11T07:20:41.890054Z",
     "start_time": "2021-08-11T07:20:40.762009Z"
    }
   },
   "outputs": [
    {
     "data": {
      "text/plain": [
       "RandomForestClassifier(max_depth=7, max_leaf_nodes=10, n_estimators=200,\n",
       "                       n_jobs=-1, random_state=42)"
      ]
     },
     "execution_count": 23,
     "metadata": {},
     "output_type": "execute_result"
    }
   ],
   "source": [
    "RF=RandomForestClassifier(n_estimators=200,max_depth=7,max_leaf_nodes=10,random_state=42,n_jobs=-1)\n",
    "RF.fit(x_train,y_train)"
   ]
  },
  {
   "cell_type": "code",
   "execution_count": 24,
   "metadata": {
    "ExecuteTime": {
     "end_time": "2021-08-11T07:20:42.158055Z",
     "start_time": "2021-08-11T07:20:41.893052Z"
    }
   },
   "outputs": [
    {
     "name": "stdout",
     "output_type": "stream",
     "text": [
      "Train Score:  0.7634877104851732\n",
      "Test Score:  0.759917990773962\n"
     ]
    }
   ],
   "source": [
    "print(\"Train Score: \",RF.score(x_train,y_train))\n",
    "print(\"Test Score: \",RF.score(x_test,y_test))"
   ]
  },
  {
   "cell_type": "code",
   "execution_count": 25,
   "metadata": {
    "ExecuteTime": {
     "end_time": "2021-08-11T07:20:42.423052Z",
     "start_time": "2021-08-11T07:20:42.161053Z"
    }
   },
   "outputs": [],
   "source": [
    "y_train_pred=RF.predict(x_train)\n",
    "y_test_pred=RF.predict(x_test)"
   ]
  },
  {
   "cell_type": "code",
   "execution_count": 26,
   "metadata": {
    "ExecuteTime": {
     "end_time": "2021-08-11T07:20:42.723050Z",
     "start_time": "2021-08-11T07:20:42.426054Z"
    }
   },
   "outputs": [],
   "source": [
    "Result=Result.append({'Model-Name':\"Random Forest\",\n",
    "                   'AUC_Train Accuracy':roc_auc_score(y_train,y_train_pred),\n",
    "                    'AUC_Test Accuracy':roc_auc_score(y_test,y_test_pred),\n",
    "                    'Train Accuracy':RF.score(x_train,y_train),\n",
    "                    'Test Accuracy':RF.score(x_test,y_test),\n",
    "                    'F1 Score_Train':f1_score(y_train,y_train_pred),\n",
    "                    'F1 Score_Test':f1_score(y_test,y_test_pred)\n",
    "                    },ignore_index=True)"
   ]
  },
  {
   "cell_type": "markdown",
   "metadata": {},
   "source": [
    "## Feature Selection Using Variance Threshold"
   ]
  },
  {
   "cell_type": "code",
   "execution_count": 27,
   "metadata": {
    "ExecuteTime": {
     "end_time": "2021-08-11T07:21:04.230899Z",
     "start_time": "2021-08-11T07:20:42.725050Z"
    }
   },
   "outputs": [
    {
     "data": {
      "text/plain": [
       "Pipeline(steps=[('Feature Selection', VarianceThreshold(threshold=0.95)),\n",
       "                ('Classification',\n",
       "                 AdaBoostClassifier(n_estimators=550, random_state=42))])"
      ]
     },
     "execution_count": 27,
     "metadata": {},
     "output_type": "execute_result"
    }
   ],
   "source": [
    "pipe=Pipeline([(\"Feature Selection\",VarianceThreshold(0.95)),\n",
    "              (\"Classification\",adb)])\n",
    "\n",
    "pipe.fit(x_train,y_train)"
   ]
  },
  {
   "cell_type": "code",
   "execution_count": 28,
   "metadata": {
    "ExecuteTime": {
     "end_time": "2021-08-11T07:21:07.568103Z",
     "start_time": "2021-08-11T07:21:04.234882Z"
    }
   },
   "outputs": [
    {
     "name": "stdout",
     "output_type": "stream",
     "text": [
      "Train Score:  0.7983699413076352\n",
      "Test Score:  0.7904664274730907\n"
     ]
    }
   ],
   "source": [
    "print(\"Train Score: \",pipe.score(x_train,y_train))\n",
    "print(\"Test Score: \",pipe.score(x_test,y_test))"
   ]
  },
  {
   "cell_type": "markdown",
   "metadata": {},
   "source": [
    "### Classification Report"
   ]
  },
  {
   "cell_type": "code",
   "execution_count": 29,
   "metadata": {
    "ExecuteTime": {
     "end_time": "2021-08-11T07:21:08.166647Z",
     "start_time": "2021-08-11T07:21:07.571106Z"
    }
   },
   "outputs": [
    {
     "name": "stdout",
     "output_type": "stream",
     "text": [
      "              precision    recall  f1-score   support\n",
      "\n",
      "           0       0.79      0.78      0.79      4830\n",
      "           1       0.79      0.80      0.79      4925\n",
      "\n",
      "    accuracy                           0.79      9755\n",
      "   macro avg       0.79      0.79      0.79      9755\n",
      "weighted avg       0.79      0.79      0.79      9755\n",
      "\n"
     ]
    }
   ],
   "source": [
    "print(classification_report(y_test,pipe.predict(x_test)))"
   ]
  },
  {
   "cell_type": "code",
   "execution_count": 30,
   "metadata": {
    "ExecuteTime": {
     "end_time": "2021-08-11T07:21:08.181623Z",
     "start_time": "2021-08-11T07:21:08.170660Z"
    }
   },
   "outputs": [],
   "source": [
    "def predict_and_plot(inputs, targets, name=''):\n",
    "    preds = pipe.predict(inputs)\n",
    "    \n",
    "    accuracy = accuracy_score(targets, preds)\n",
    "    print(\"Accuracy: {:.2f}%\".format(accuracy * 100))\n",
    "    \n",
    "    cf = confusion_matrix(targets, preds, normalize='true')\n",
    "    plt.figure()\n",
    "    sns.heatmap(cf, annot=True)\n",
    "    plt.xlabel('Prediction')\n",
    "    plt.ylabel('Target')\n",
    "    plt.title('{} Confusion Matrix'.format(name));\n",
    "    \n",
    "    return preds"
   ]
  },
  {
   "cell_type": "code",
   "execution_count": 31,
   "metadata": {
    "ExecuteTime": {
     "end_time": "2021-08-11T07:21:11.015092Z",
     "start_time": "2021-08-11T07:21:08.182623Z"
    }
   },
   "outputs": [
    {
     "name": "stdout",
     "output_type": "stream",
     "text": [
      "Accuracy: 79.84%\n"
     ]
    },
    {
     "data": {
      "image/png": "[encoded data removed]",
      "text/plain": [
       "<Figure size 432x288 with 2 Axes>"
      ]
     },
     "metadata": {
      "needs_background": "light"
     },
     "output_type": "display_data"
    }
   ],
   "source": [
    "train_preds=predict_and_plot(x_train,y_train,\"Train Data\")"
   ]
  },
  {
   "cell_type": "code",
   "execution_count": 32,
   "metadata": {
    "ExecuteTime": {
     "end_time": "2021-08-11T07:21:11.797316Z",
     "start_time": "2021-08-11T07:21:11.018098Z"
    }
   },
   "outputs": [
    {
     "name": "stdout",
     "output_type": "stream",
     "text": [
      "Accuracy: 79.05%\n"
     ]
    },
    {
     "data": {
      "image/png": "[encoded data removed]",
      "text/plain": [
       "<Figure size 432x288 with 2 Axes>"
      ]
     },
     "metadata": {
      "needs_background": "light"
     },
     "output_type": "display_data"
    }
   ],
   "source": [
    "test_preds = predict_and_plot(x_test, y_test, 'Test data')"
   ]
  },
  {
   "cell_type": "code",
   "execution_count": 33,
   "metadata": {
    "ExecuteTime": {
     "end_time": "2021-08-11T07:21:15.147713Z",
     "start_time": "2021-08-11T07:21:11.799324Z"
    }
   },
   "outputs": [],
   "source": [
    "y_train_pred=pipe.predict(x_train)\n",
    "y_test_pred=pipe.predict(x_test)"
   ]
  },
  {
   "cell_type": "code",
   "execution_count": 34,
   "metadata": {
    "ExecuteTime": {
     "end_time": "2021-08-11T07:21:18.302365Z",
     "start_time": "2021-08-11T07:21:15.151716Z"
    }
   },
   "outputs": [],
   "source": [
    "Result=Result.append({'Model-Name':\"AdaBoost after Variance Threshold\",\n",
    "                   'AUC_Train Accuracy':roc_auc_score(y_train,y_train_pred),\n",
    "                    'AUC_Test Accuracy':roc_auc_score(y_test,y_test_pred),\n",
    "                    'Train Accuracy':pipe.score(x_train,y_train),\n",
    "                    'Test Accuracy':pipe.score(x_test,y_test),\n",
    "                    'F1 Score_Train':f1_score(y_train,y_train_pred),\n",
    "                    'F1 Score_Test':f1_score(y_test,y_test_pred)\n",
    "                    },ignore_index=True)"
   ]
  },
  {
   "cell_type": "markdown",
   "metadata": {},
   "source": [
    "## Feature selection using mutual_info classifier"
   ]
  },
  {
   "cell_type": "code",
   "execution_count": 35,
   "metadata": {
    "ExecuteTime": {
     "end_time": "2021-08-11T07:21:18.460991Z",
     "start_time": "2021-08-11T07:21:18.304204Z"
    }
   },
   "outputs": [],
   "source": [
    "Ml_info=feature_selection.mutual_info_classif(x_train,y_train,discrete_features=True)\n",
    "pipe=Pipeline([(\"Feature Selection\",feature_selection.SelectKBest(score_func=feature_selection.mutual_info_classif)),\n",
    "              (\"Classification\",adb)])"
   ]
  },
  {
   "cell_type": "code",
   "execution_count": 36,
   "metadata": {
    "ExecuteTime": {
     "end_time": "2021-08-11T07:21:37.440053Z",
     "start_time": "2021-08-11T07:21:18.462740Z"
    }
   },
   "outputs": [
    {
     "data": {
      "text/plain": [
       "Pipeline(steps=[('Feature Selection',\n",
       "                 SelectKBest(score_func=<function mutual_info_classif at 0x000002E1D48B0820>)),\n",
       "                ('Classification',\n",
       "                 AdaBoostClassifier(n_estimators=550, random_state=42))])"
      ]
     },
     "execution_count": 36,
     "metadata": {},
     "output_type": "execute_result"
    }
   ],
   "source": [
    "pipe.fit(x_train,y_train)"
   ]
  },
  {
   "cell_type": "code",
   "execution_count": 37,
   "metadata": {
    "ExecuteTime": {
     "end_time": "2021-08-11T07:21:40.262747Z",
     "start_time": "2021-08-11T07:21:37.442049Z"
    }
   },
   "outputs": [
    {
     "name": "stdout",
     "output_type": "stream",
     "text": [
      "Train score: 0.7861188712612451\n",
      "Test score: 0.7802152742183496\n"
     ]
    }
   ],
   "source": [
    "print('Train score:',pipe.score(x_train,y_train))\n",
    "print('Test score:',pipe.score(x_test,y_test))"
   ]
  },
  {
   "cell_type": "code",
   "execution_count": 38,
   "metadata": {
    "ExecuteTime": {
     "end_time": "2021-08-11T07:21:40.795739Z",
     "start_time": "2021-08-11T07:21:40.266742Z"
    }
   },
   "outputs": [
    {
     "name": "stdout",
     "output_type": "stream",
     "text": [
      "              precision    recall  f1-score   support\n",
      "\n",
      "           0       0.78      0.78      0.78      4830\n",
      "           1       0.79      0.78      0.78      4925\n",
      "\n",
      "    accuracy                           0.78      9755\n",
      "   macro avg       0.78      0.78      0.78      9755\n",
      "weighted avg       0.78      0.78      0.78      9755\n",
      "\n"
     ]
    }
   ],
   "source": [
    "print(classification_report(y_test,pipe.predict(x_test)))"
   ]
  },
  {
   "cell_type": "code",
   "execution_count": 39,
   "metadata": {
    "ExecuteTime": {
     "end_time": "2021-08-11T07:21:41.329573Z",
     "start_time": "2021-08-11T07:21:40.798754Z"
    }
   },
   "outputs": [
    {
     "data": {
      "text/plain": [
       "array([[3784, 1046],\n",
       "       [1098, 3827]], dtype=int64)"
      ]
     },
     "execution_count": 39,
     "metadata": {},
     "output_type": "execute_result"
    }
   ],
   "source": [
    "confusion_matrix(y_test,pipe.predict(x_test))"
   ]
  },
  {
   "cell_type": "code",
   "execution_count": 40,
   "metadata": {
    "ExecuteTime": {
     "end_time": "2021-08-11T07:21:41.866654Z",
     "start_time": "2021-08-11T07:21:41.332587Z"
    }
   },
   "outputs": [
    {
     "data": {
      "text/plain": [
       "0.780246345282761"
      ]
     },
     "execution_count": 40,
     "metadata": {},
     "output_type": "execute_result"
    }
   ],
   "source": [
    "# plot this threshold value\n",
    "roc_auc_score(y_test,pipe.predict(x_test))"
   ]
  },
  {
   "cell_type": "code",
   "execution_count": 41,
   "metadata": {
    "ExecuteTime": {
     "end_time": "2021-08-11T07:21:42.536692Z",
     "start_time": "2021-08-11T07:21:41.868640Z"
    }
   },
   "outputs": [
    {
     "data": {
      "image/png": "[encoded data removed]",
      "text/plain": [
       "<Figure size 800x600 with 1 Axes>"
      ]
     },
     "metadata": {
      "needs_background": "light"
     },
     "output_type": "display_data"
    }
   ],
   "source": [
    "false_positive_rate, true_positive_rate, thresolds = roc_curve(y_test,pipe.predict(x_test))\n",
    "\n",
    "plt.figure(figsize=(8, 6), dpi=100)\n",
    "plt.axis('scaled')\n",
    "plt.xlim([0, 1])\n",
    "plt.ylim([0, 1])\n",
    "plt.title(\"ROC Curve\")\n",
    "plt.plot(false_positive_rate, true_positive_rate, 'g')\n",
    "plt.fill_between(false_positive_rate, true_positive_rate, facecolor='lightblue', alpha=0.7)\n",
    "#plt.text(0.95, 0.05, 'AUC = %0.4f' % auc, ha='right', fontsize=12, weight='bold', color='blue')\n",
    "plt.xlabel(\"False Positive Rate\")\n",
    "\n",
    "plt.ylabel(\"True Positive Rate\")\n",
    "plt.show()"
   ]
  },
  {
   "cell_type": "code",
   "execution_count": 42,
   "metadata": {
    "ExecuteTime": {
     "end_time": "2021-08-11T07:21:45.389688Z",
     "start_time": "2021-08-11T07:21:42.539686Z"
    }
   },
   "outputs": [],
   "source": [
    "y_train_pred=pipe.predict(x_train)\n",
    "y_test_pred=pipe.predict(x_test)"
   ]
  },
  {
   "cell_type": "code",
   "execution_count": 43,
   "metadata": {
    "ExecuteTime": {
     "end_time": "2021-08-11T07:21:49.047611Z",
     "start_time": "2021-08-11T07:21:45.391695Z"
    }
   },
   "outputs": [],
   "source": [
    "Result=Result.append({'Model-Name':\"AdaBoost after mutual_info_classifier\",\n",
    "                   'AUC_Train Accuracy':roc_auc_score(y_train,y_train_pred),\n",
    "                    'AUC_Test Accuracy':roc_auc_score(y_test,y_test_pred),\n",
    "                    'Train Accuracy':pipe.score(x_train,y_train),\n",
    "                    'Test Accuracy':pipe.score(x_test,y_test),\n",
    "                    'F1 Score_Train':f1_score(y_train,y_train_pred),\n",
    "                    'F1 Score_Test':f1_score(y_test,y_test_pred)\n",
    "                    },ignore_index=True)"
   ]
  },
  {
   "cell_type": "markdown",
   "metadata": {},
   "source": [
    "## PCA"
   ]
  },
  {
   "cell_type": "code",
   "execution_count": 44,
   "metadata": {
    "ExecuteTime": {
     "end_time": "2021-08-11T07:21:49.063654Z",
     "start_time": "2021-08-11T07:21:49.048611Z"
    }
   },
   "outputs": [],
   "source": [
    "# changing the n_estimators value of Ada Boost Classifier\n",
    "adb=AdaBoostClassifier(n_estimators=200,random_state=42)\n"
   ]
  },
  {
   "cell_type": "code",
   "execution_count": 45,
   "metadata": {
    "ExecuteTime": {
     "end_time": "2021-08-11T07:21:54.040013Z",
     "start_time": "2021-08-11T07:21:49.067651Z"
    }
   },
   "outputs": [
    {
     "data": {
      "text/plain": [
       "Pipeline(steps=[('Feature Selection', PCA(n_components=0.95)),\n",
       "                ('Classification',\n",
       "                 AdaBoostClassifier(n_estimators=200, random_state=42))])"
      ]
     },
     "execution_count": 45,
     "metadata": {},
     "output_type": "execute_result"
    }
   ],
   "source": [
    "pipe=Pipeline([(\"Feature Selection\",PCA(n_components=0.95)),\n",
    "              (\"Classification\",adb)])\n",
    "pipe.fit(x_train,y_train)"
   ]
  },
  {
   "cell_type": "code",
   "execution_count": 46,
   "metadata": {
    "ExecuteTime": {
     "end_time": "2021-08-11T07:21:54.950535Z",
     "start_time": "2021-08-11T07:21:54.042010Z"
    }
   },
   "outputs": [
    {
     "name": "stdout",
     "output_type": "stream",
     "text": [
      "Train Score:  0.5527846835994566\n",
      "Test Score:  0.521783700666325\n"
     ]
    }
   ],
   "source": [
    "print(\"Train Score: \",pipe.score(x_train,y_train))\n",
    "print(\"Test Score: \",pipe.score(x_test,y_test))"
   ]
  },
  {
   "cell_type": "code",
   "execution_count": 47,
   "metadata": {
    "ExecuteTime": {
     "end_time": "2021-08-11T07:21:55.878688Z",
     "start_time": "2021-08-11T07:21:54.951538Z"
    }
   },
   "outputs": [],
   "source": [
    "y_train_pred=pipe.predict(x_train)\n",
    "y_test_pred=pipe.predict(x_test)"
   ]
  },
  {
   "cell_type": "code",
   "execution_count": 48,
   "metadata": {
    "ExecuteTime": {
     "end_time": "2021-08-11T07:21:56.811335Z",
     "start_time": "2021-08-11T07:21:55.880681Z"
    }
   },
   "outputs": [],
   "source": [
    "Result=Result.append({'Model-Name':\"AdaBoost after PCA\",\n",
    "                   'AUC_Train Accuracy':roc_auc_score(y_train,y_train_pred),\n",
    "                    'AUC_Test Accuracy':roc_auc_score(y_test,y_test_pred),\n",
    "                    'Train Accuracy':pipe.score(x_train,y_train),\n",
    "                    'Test Accuracy':pipe.score(x_test,y_test),\n",
    "                    'F1 Score_Train':f1_score(y_train,y_train_pred),\n",
    "                    'F1 Score_Test':f1_score(y_test,y_test_pred)\n",
    "                    },ignore_index=True)"
   ]
  },
  {
   "cell_type": "markdown",
   "metadata": {},
   "source": [
    "## Conclusion"
   ]
  },
  {
   "cell_type": "code",
   "execution_count": 50,
   "metadata": {
    "ExecuteTime": {
     "end_time": "2021-08-11T07:21:56.843428Z",
     "start_time": "2021-08-11T07:21:56.829427Z"
    }
   },
   "outputs": [
    {
     "data": {
      "text/html": [
       "<div>\n",
       "<style scoped>\n",
       "    .dataframe tbody tr th:only-of-type {\n",
       "        vertical-align: middle;\n",
       "    }\n",
       "\n",
       "    .dataframe tbody tr th {\n",
       "        vertical-align: top;\n",
       "    }\n",
       "\n",
       "    .dataframe thead th {\n",
       "        text-align: right;\n",
       "    }\n",
       "</style>\n",
       "<table border=\"1\" class=\"dataframe\">\n",
       "  <thead>\n",
       "    <tr style=\"text-align: right;\">\n",
       "      <th></th>\n",
       "      <th>Model-Name</th>\n",
       "      <th>AUC_Train Accuracy</th>\n",
       "      <th>AUC_Test Accuracy</th>\n",
       "      <th>Train Accuracy</th>\n",
       "      <th>Test Accuracy</th>\n",
       "      <th>F1 Score_Train</th>\n",
       "      <th>F1 Score_Test</th>\n",
       "    </tr>\n",
       "  </thead>\n",
       "  <tbody>\n",
       "    <tr>\n",
       "      <th>0</th>\n",
       "      <td>Logistic Regression</td>\n",
       "      <td>0.661587</td>\n",
       "      <td>0.661634</td>\n",
       "      <td>0.661532</td>\n",
       "      <td>0.661814</td>\n",
       "      <td>0.668441</td>\n",
       "      <td>0.670067</td>\n",
       "    </tr>\n",
       "    <tr>\n",
       "      <th>1</th>\n",
       "      <td>AdaBoost Classifier</td>\n",
       "      <td>0.819345</td>\n",
       "      <td>0.813244</td>\n",
       "      <td>0.819335</td>\n",
       "      <td>0.813326</td>\n",
       "      <td>0.819686</td>\n",
       "      <td>0.816339</td>\n",
       "    </tr>\n",
       "    <tr>\n",
       "      <th>2</th>\n",
       "      <td>Decision Tree</td>\n",
       "      <td>0.714495</td>\n",
       "      <td>0.712939</td>\n",
       "      <td>0.714535</td>\n",
       "      <td>0.712763</td>\n",
       "      <td>0.709327</td>\n",
       "      <td>0.709517</td>\n",
       "    </tr>\n",
       "    <tr>\n",
       "      <th>3</th>\n",
       "      <td>Random Forest</td>\n",
       "      <td>0.763343</td>\n",
       "      <td>0.760492</td>\n",
       "      <td>0.763488</td>\n",
       "      <td>0.759918</td>\n",
       "      <td>0.748020</td>\n",
       "      <td>0.746866</td>\n",
       "    </tr>\n",
       "    <tr>\n",
       "      <th>4</th>\n",
       "      <td>AdaBoost after Variance Threshold</td>\n",
       "      <td>0.798375</td>\n",
       "      <td>0.790383</td>\n",
       "      <td>0.798370</td>\n",
       "      <td>0.790466</td>\n",
       "      <td>0.798401</td>\n",
       "      <td>0.793827</td>\n",
       "    </tr>\n",
       "    <tr>\n",
       "      <th>5</th>\n",
       "      <td>AdaBoost after mutual_info_classifier</td>\n",
       "      <td>0.786115</td>\n",
       "      <td>0.780246</td>\n",
       "      <td>0.786119</td>\n",
       "      <td>0.780215</td>\n",
       "      <td>0.785338</td>\n",
       "      <td>0.781180</td>\n",
       "    </tr>\n",
       "    <tr>\n",
       "      <th>6</th>\n",
       "      <td>AdaBoost after PCA</td>\n",
       "      <td>0.552807</td>\n",
       "      <td>0.521514</td>\n",
       "      <td>0.552785</td>\n",
       "      <td>0.521784</td>\n",
       "      <td>0.556197</td>\n",
       "      <td>0.536973</td>\n",
       "    </tr>\n",
       "  </tbody>\n",
       "</table>\n",
       "</div>"
      ],
      "text/plain": [
       "                              Model-Name  AUC_Train Accuracy  \\\n",
       "0                    Logistic Regression            0.661587   \n",
       "1                    AdaBoost Classifier            0.819345   \n",
       "2                          Decision Tree            0.714495   \n",
       "3                          Random Forest            0.763343   \n",
       "4      AdaBoost after Variance Threshold            0.798375   \n",
       "5  AdaBoost after mutual_info_classifier            0.786115   \n",
       "6                     AdaBoost after PCA            0.552807   \n",
       "\n",
       "   AUC_Test Accuracy  Train Accuracy  Test Accuracy  F1 Score_Train  \\\n",
       "0           0.661634        0.661532       0.661814        0.668441   \n",
       "1           0.813244        0.819335       0.813326        0.819686   \n",
       "2           0.712939        0.714535       0.712763        0.709327   \n",
       "3           0.760492        0.763488       0.759918        0.748020   \n",
       "4           0.790383        0.798370       0.790466        0.798401   \n",
       "5           0.780246        0.786119       0.780215        0.785338   \n",
       "6           0.521514        0.552785       0.521784        0.556197   \n",
       "\n",
       "   F1 Score_Test  \n",
       "0       0.670067  \n",
       "1       0.816339  \n",
       "2       0.709517  \n",
       "3       0.746866  \n",
       "4       0.793827  \n",
       "5       0.781180  \n",
       "6       0.536973  "
      ]
     },
     "execution_count": 50,
     "metadata": {},
     "output_type": "execute_result"
    }
   ],
   "source": [
    "Result"
   ]
  },
  {
   "cell_type": "markdown",
   "metadata": {},
   "source": [
    "**From above Result table,it is clearly seen that AdaBoost Classifier gives the best Accuracy(F1 Score,AUC).**"
   ]
  },
  {
   "cell_type": "code",
   "execution_count": null,
   "metadata": {},
   "outputs": [],
   "source": []
  }
 ],
 "metadata": {
  "kernelspec": {
   "display_name": "Python 3 (ipykernel)",
   "language": "python",
   "name": "python3"
  },
  "language_info": {
   "codemirror_mode": {
    "name": "ipython",
    "version": 3
   },
   "file_extension": ".py",
   "mimetype": "text/x-python",
   "name": "python",
   "nbconvert_exporter": "python",
   "pygments_lexer": "ipython3",
   "version": "3.8.11"
  },
  "toc": {
   "base_numbering": 1,
   "nav_menu": {},
   "number_sections": true,
   "sideBar": true,
   "skip_h1_title": false,
   "title_cell": "Table of Contents",
   "title_sidebar": "Contents",
   "toc_cell": false,
   "toc_position": {},
   "toc_section_display": true,
   "toc_window_display": false
  },
  "varInspector": {
   "cols": {
    "lenName": 16,
    "lenType": 16,
    "lenVar": 40
   },
   "kernels_config": {
    "python": {
     "delete_cmd_postfix": "",
     "delete_cmd_prefix": "del ",
     "library": "var_list.py",
     "varRefreshCmd": "print(var_dic_list())"
    },
    "r": {
     "delete_cmd_postfix": ") ",
     "delete_cmd_prefix": "rm(",
     "library": "var_list.r",
     "varRefreshCmd": "cat(var_dic_list()) "
    }
   },
   "types_to_exclude": [
    "module",
    "function",
    "builtin_function_or_method",
    "instance",
    "_Feature"
   ],
   "window_display": false
  }
 },
 "nbformat": 4,
 "nbformat_minor": 4
}
